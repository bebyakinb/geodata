{
 "cells": [
  {
   "cell_type": "markdown",
   "id": "3a7dc1c6",
   "metadata": {},
   "source": [
    "Получаем данные о результатах ЕГЭ с mos.ru"
   ]
  },
  {
   "cell_type": "code",
   "execution_count": 1,
   "id": "b5db1584",
   "metadata": {},
   "outputs": [],
   "source": [
    "from requests import Request, Session\n",
    "from requests.exceptions import ConnectionError, Timeout, TooManyRedirects\n",
    "import json\n",
    "\n",
    "url = 'https://apidata.mos.ru/v1/datasets/2072/rows' \n",
    "\n",
    "parameters = {\n",
    "    'api_key': '1b205986adb3e7e7dd5161a765d55ee9',\n",
    "    'top': 1,\n",
    "}\n",
    "headers = {\n",
    "  'Content-Type': 'application/json',\n",
    "}\n",
    "\n",
    "session = Session()\n",
    "session.headers.update(headers)\n",
    "\n",
    "try:\n",
    "  response = session.get(url, params=parameters)\n",
    "  results_raw = json.loads(response.text)\n",
    "  #print(data)\n",
    "except (ConnectionError, Timeout, TooManyRedirects) as e:\n",
    "  print(e)\n"
   ]
  },
  {
   "cell_type": "markdown",
   "id": "a065749d",
   "metadata": {},
   "source": [
    "Получаем данные о локациях школ с mos.ru"
   ]
  },
  {
   "cell_type": "code",
   "execution_count": 2,
   "id": "aa2ba1d2",
   "metadata": {},
   "outputs": [],
   "source": [
    "url = 'https://apidata.mos.ru/v1/datasets/2263/features'\n",
    "\n",
    "try:\n",
    "  response = session.get(url, params=parameters)\n",
    "  schools_raw = json.loads(response.text)\n",
    "  #print(data)\n",
    "except (ConnectionError, Timeout, TooManyRedirects) as e:\n",
    "  print(e)\n"
   ]
  },
  {
   "cell_type": "markdown",
   "id": "d75d4906",
   "metadata": {},
   "source": [
    "Переводим данные о школах и результатах ЕГЭ dataframe"
   ]
  },
  {
   "cell_type": "code",
   "execution_count": 3,
   "id": "56f789de",
   "metadata": {},
   "outputs": [],
   "source": [
    "import pandas as pd\n",
    "pd.set_option('display.max_columns', None)\n",
    "\n",
    "schools_raw_df = pd.json_normalize(schools_raw['features'])\n",
    "results_raw_df = pd.json_normalize(results_raw)"
   ]
  },
  {
   "cell_type": "markdown",
   "id": "e7e19929",
   "metadata": {},
   "source": [
    "Поулучаем данные о кол-ве учашихся в школах из архива data.mos.ru актуальные на май 2021, они совпадают с периодом сдачи ЕГЭ. "
   ]
  },
  {
   "cell_type": "code",
   "execution_count": 4,
   "id": "e24562dc",
   "metadata": {},
   "outputs": [],
   "source": [
    "import re\n",
    "\n",
    "students_raw_df = pd.read_csv('schools_rating/schools-2021-05-31.csv')\n",
    "students = pd.DataFrame(students_raw_df['FullName'])\n",
    "for index, row in students_raw_df.iterrows():\n",
    "    if type(students_raw_df.loc[index,'NumberofStudentsInOO']) != float:\n",
    "        students.loc[index, 'students'] = float(re.findall('[0-9]+',  row['NumberofStudentsInOO'])[0])"
   ]
  },
  {
   "cell_type": "markdown",
   "id": "c2cd557f",
   "metadata": {},
   "source": [
    "Извлекаем данные о локации школ и кол-ве студентов"
   ]
  },
  {
   "cell_type": "code",
   "execution_count": 5,
   "id": "e74af08f",
   "metadata": {},
   "outputs": [],
   "source": [
    "schools = pd.DataFrame(schools_raw_df['properties.Attributes.FullName'])\n",
    "schools.rename(columns = {'properties.Attributes.FullName':'fullName'}, inplace = True)"
   ]
  },
  {
   "cell_type": "code",
   "execution_count": 6,
   "id": "d7a3f8c2",
   "metadata": {},
   "outputs": [],
   "source": [
    "for index, row in schools_raw_df.iterrows():\n",
    "    if row['geometry.type'] == 'MultiPolygon':\n",
    "        schools.loc[index, 'long'] = row['geometry.coordinates'][0][0][0][0]\n",
    "        schools.loc[index, 'lat'] = row['geometry.coordinates'][0][0][0][1]\n",
    "    if row['geometry.type'] == 'Polygon':\n",
    "        schools.loc[index, 'long'] = row['geometry.coordinates'][0][0][0]\n",
    "        schools.loc[index, 'lat'] = row['geometry.coordinates'][0][0][1]\n",
    "    tmp = students.loc[students.FullName == row['properties.Attributes.FullName'], 'students']\n",
    "    if len(tmp) > 0:\n",
    "        schools.loc[index, 'students'] = tmp.item()"
   ]
  },
  {
   "cell_type": "markdown",
   "id": "59f6d83c",
   "metadata": {},
   "source": [
    "Объеденяем данные о школах с результатами ЕГЭ"
   ]
  },
  {
   "cell_type": "code",
   "execution_count": 7,
   "id": "77e5eeec",
   "metadata": {},
   "outputs": [],
   "source": [
    "results_raw_df.rename(columns = {'Cells.EDU_NAME':'fullName', 'Cells.YEAR':'year', 'Cells.District': 'district', 'Cells.PASSES_OVER_220':'over_220', 'Cells.PASSER_UNDER_160': 'over_160'}, inplace = True)"
   ]
  },
  {
   "cell_type": "code",
   "execution_count": 8,
   "id": "c0b568bc",
   "metadata": {},
   "outputs": [],
   "source": [
    "results_raw_df = results_raw_df[results_raw_df['year'] == \"2020-2021\"]\n",
    "results = results_raw_df.merge(schools,how='left',on='fullName')"
   ]
  },
  {
   "cell_type": "markdown",
   "id": "addc5c15",
   "metadata": {},
   "source": [
    "Добавляем пропущенные значения, которые можно найти в открытом доступе"
   ]
  },
  {
   "cell_type": "code",
   "execution_count": 9,
   "id": "306e926d",
   "metadata": {
    "scrolled": true
   },
   "outputs": [],
   "source": [
    "row_indexer = results[results[\"lat\"].isnull() & results[\"students\"]].index[0] \n",
    "results.loc[row_indexer,'long'] = 37.493497\n",
    "results.loc[row_indexer,'lat'] = 55.567535"
   ]
  },
  {
   "cell_type": "markdown",
   "id": "c6170c31",
   "metadata": {},
   "source": [
    "Добавляем рейтинги школ(smart_rate_160 и smart_rate_220). Формула расчета: кол-во сдавших деленное на общее кол-во учашихся в школах. т.к информацию о кол-ве сдававших ЕГЭ по школам в открытом доступе нет"
   ]
  },
  {
   "cell_type": "code",
   "execution_count": 10,
   "id": "980bc2b6",
   "metadata": {},
   "outputs": [],
   "source": [
    "for index, row in results.iterrows():\n",
    "    results.loc[index,'district'] = row['district'].replace('район ', '').replace(' район', '')\n",
    "    if row['students']:\n",
    "        results.loc[index,'smart_rate_160'] = row['over_160']/row['students']\n",
    "        results.loc[index,'smart_rate_220'] = row['over_220']/row['students']"
   ]
  },
  {
   "cell_type": "markdown",
   "id": "61129ae4",
   "metadata": {},
   "source": [
    "Удаляем строки, для которых не удалось найти недостающую информацию"
   ]
  },
  {
   "cell_type": "code",
   "execution_count": 11,
   "id": "878874e4",
   "metadata": {
    "scrolled": true
   },
   "outputs": [],
   "source": [
    "ind_missing = results[results['long'].isnull() | results['students'].isnull()].index\n",
    "results_cleaned = results.drop(ind_missing, axis=0)"
   ]
  },
  {
   "cell_type": "code",
   "execution_count": 12,
   "id": "4482f15b",
   "metadata": {},
   "outputs": [
    {
     "data": {
      "text/html": [
       "<div>\n",
       "<style scoped>\n",
       "    .dataframe tbody tr th:only-of-type {\n",
       "        vertical-align: middle;\n",
       "    }\n",
       "\n",
       "    .dataframe tbody tr th {\n",
       "        vertical-align: top;\n",
       "    }\n",
       "\n",
       "    .dataframe thead th {\n",
       "        text-align: right;\n",
       "    }\n",
       "</style>\n",
       "<table border=\"1\" class=\"dataframe\">\n",
       "  <thead>\n",
       "    <tr style=\"text-align: right;\">\n",
       "      <th></th>\n",
       "      <th>district</th>\n",
       "      <th>smart_rate_160</th>\n",
       "      <th>smart_rate_220</th>\n",
       "    </tr>\n",
       "  </thead>\n",
       "  <tbody>\n",
       "    <tr>\n",
       "      <th>0</th>\n",
       "      <td>Академический</td>\n",
       "      <td>0.053528</td>\n",
       "      <td>0.029655</td>\n",
       "    </tr>\n",
       "    <tr>\n",
       "      <th>1</th>\n",
       "      <td>Алексеевский</td>\n",
       "      <td>0.044678</td>\n",
       "      <td>0.022164</td>\n",
       "    </tr>\n",
       "    <tr>\n",
       "      <th>2</th>\n",
       "      <td>Алтуфьевский</td>\n",
       "      <td>0.035936</td>\n",
       "      <td>0.018151</td>\n",
       "    </tr>\n",
       "    <tr>\n",
       "      <th>3</th>\n",
       "      <td>Арбат</td>\n",
       "      <td>0.051368</td>\n",
       "      <td>0.029375</td>\n",
       "    </tr>\n",
       "    <tr>\n",
       "      <th>4</th>\n",
       "      <td>Аэропорт</td>\n",
       "      <td>0.057800</td>\n",
       "      <td>0.033795</td>\n",
       "    </tr>\n",
       "    <tr>\n",
       "      <th>...</th>\n",
       "      <td>...</td>\n",
       "      <td>...</td>\n",
       "      <td>...</td>\n",
       "    </tr>\n",
       "    <tr>\n",
       "      <th>130</th>\n",
       "      <td>поселение Краснопахорское</td>\n",
       "      <td>0.017013</td>\n",
       "      <td>0.005293</td>\n",
       "    </tr>\n",
       "    <tr>\n",
       "      <th>131</th>\n",
       "      <td>поселение Московский</td>\n",
       "      <td>0.025526</td>\n",
       "      <td>0.010161</td>\n",
       "    </tr>\n",
       "    <tr>\n",
       "      <th>132</th>\n",
       "      <td>поселение Рязановское</td>\n",
       "      <td>0.028911</td>\n",
       "      <td>0.014119</td>\n",
       "    </tr>\n",
       "    <tr>\n",
       "      <th>133</th>\n",
       "      <td>поселение Сосенское</td>\n",
       "      <td>0.025701</td>\n",
       "      <td>0.011545</td>\n",
       "    </tr>\n",
       "    <tr>\n",
       "      <th>134</th>\n",
       "      <td>поселение Щербинка</td>\n",
       "      <td>0.015372</td>\n",
       "      <td>0.003942</td>\n",
       "    </tr>\n",
       "  </tbody>\n",
       "</table>\n",
       "<p>135 rows × 3 columns</p>\n",
       "</div>"
      ],
      "text/plain": [
       "                      district  smart_rate_160  smart_rate_220\n",
       "0                Академический        0.053528        0.029655\n",
       "1                 Алексеевский        0.044678        0.022164\n",
       "2                 Алтуфьевский        0.035936        0.018151\n",
       "3                        Арбат        0.051368        0.029375\n",
       "4                     Аэропорт        0.057800        0.033795\n",
       "..                         ...             ...             ...\n",
       "130  поселение Краснопахорское        0.017013        0.005293\n",
       "131       поселение Московский        0.025526        0.010161\n",
       "132      поселение Рязановское        0.028911        0.014119\n",
       "133        поселение Сосенское        0.025701        0.011545\n",
       "134         поселение Щербинка        0.015372        0.003942\n",
       "\n",
       "[135 rows x 3 columns]"
      ]
     },
     "execution_count": 12,
     "metadata": {},
     "output_type": "execute_result"
    }
   ],
   "source": [
    "districts = pd.DataFrame(results_cleaned.groupby('district', as_index=False)[['smart_rate_160', 'smart_rate_220']].mean())\n",
    "districts"
   ]
  },
  {
   "cell_type": "code",
   "execution_count": 13,
   "id": "042fe6a0",
   "metadata": {},
   "outputs": [
    {
     "ename": "ImportError",
     "evalue": "the 'read_file' function requires the 'fiona' package, but it is not installed or does not import correctly.\nImporting fiona resulted in: DLL load failed while importing ogrext: Не найден указанный модуль.",
     "output_type": "error",
     "traceback": [
      "\u001b[1;31m---------------------------------------------------------------------------\u001b[0m",
      "\u001b[1;31mImportError\u001b[0m                               Traceback (most recent call last)",
      "Input \u001b[1;32mIn [13]\u001b[0m, in \u001b[0;36m<cell line: 3>\u001b[1;34m()\u001b[0m\n\u001b[0;32m      1\u001b[0m \u001b[38;5;28;01mimport\u001b[39;00m \u001b[38;5;21;01mgeopandas\u001b[39;00m \u001b[38;5;28;01mas\u001b[39;00m \u001b[38;5;21;01mgpd\u001b[39;00m\n\u001b[0;32m      2\u001b[0m get_ipython()\u001b[38;5;241m.\u001b[39mrun_line_magic(\u001b[38;5;124m'\u001b[39m\u001b[38;5;124mmatplotlib\u001b[39m\u001b[38;5;124m'\u001b[39m, \u001b[38;5;124m'\u001b[39m\u001b[38;5;124minline\u001b[39m\u001b[38;5;124m'\u001b[39m)\n\u001b[1;32m----> 3\u001b[0m mo_gdf \u001b[38;5;241m=\u001b[39m \u001b[43mgpd\u001b[49m\u001b[38;5;241;43m.\u001b[39;49m\u001b[43mread_file\u001b[49m\u001b[43m(\u001b[49m\u001b[38;5;124;43m'\u001b[39;49m\u001b[38;5;124;43mschools_rating/atd/mo.shp\u001b[39;49m\u001b[38;5;124;43m'\u001b[39;49m\u001b[43m)\u001b[49m\n\u001b[0;32m      4\u001b[0m mo_gdf\n",
      "File \u001b[1;32mC:\\ProgramData\\Anaconda3\\envs\\geodata\\lib\\site-packages\\geopandas\\io\\file.py:127\u001b[0m, in \u001b[0;36m_read_file\u001b[1;34m(filename, bbox, mask, rows, **kwargs)\u001b[0m\n\u001b[0;32m     66\u001b[0m \u001b[38;5;28;01mdef\u001b[39;00m \u001b[38;5;21m_read_file\u001b[39m(filename, bbox\u001b[38;5;241m=\u001b[39m\u001b[38;5;28;01mNone\u001b[39;00m, mask\u001b[38;5;241m=\u001b[39m\u001b[38;5;28;01mNone\u001b[39;00m, rows\u001b[38;5;241m=\u001b[39m\u001b[38;5;28;01mNone\u001b[39;00m, \u001b[38;5;241m*\u001b[39m\u001b[38;5;241m*\u001b[39mkwargs):\n\u001b[0;32m     67\u001b[0m     \u001b[38;5;124;03m\"\"\"\u001b[39;00m\n\u001b[0;32m     68\u001b[0m \u001b[38;5;124;03m    Returns a GeoDataFrame from a file or URL.\u001b[39;00m\n\u001b[0;32m     69\u001b[0m \n\u001b[1;32m   (...)\u001b[0m\n\u001b[0;32m    125\u001b[0m \u001b[38;5;124;03m    by using the encoding keyword parameter, e.g. ``encoding='utf-8'``.\u001b[39;00m\n\u001b[0;32m    126\u001b[0m \u001b[38;5;124;03m    \"\"\"\u001b[39;00m\n\u001b[1;32m--> 127\u001b[0m     \u001b[43m_check_fiona\u001b[49m\u001b[43m(\u001b[49m\u001b[38;5;124;43m\"\u001b[39;49m\u001b[38;5;124;43m'\u001b[39;49m\u001b[38;5;124;43mread_file\u001b[39;49m\u001b[38;5;124;43m'\u001b[39;49m\u001b[38;5;124;43m function\u001b[39;49m\u001b[38;5;124;43m\"\u001b[39;49m\u001b[43m)\u001b[49m\n\u001b[0;32m    128\u001b[0m     \u001b[38;5;28;01mif\u001b[39;00m _is_url(filename):\n\u001b[0;32m    129\u001b[0m         req \u001b[38;5;241m=\u001b[39m _urlopen(filename)\n",
      "File \u001b[1;32mC:\\ProgramData\\Anaconda3\\envs\\geodata\\lib\\site-packages\\geopandas\\io\\file.py:42\u001b[0m, in \u001b[0;36m_check_fiona\u001b[1;34m(func)\u001b[0m\n\u001b[0;32m     40\u001b[0m \u001b[38;5;28;01mdef\u001b[39;00m \u001b[38;5;21m_check_fiona\u001b[39m(func):\n\u001b[0;32m     41\u001b[0m     \u001b[38;5;28;01mif\u001b[39;00m fiona \u001b[38;5;129;01mis\u001b[39;00m \u001b[38;5;28;01mNone\u001b[39;00m:\n\u001b[1;32m---> 42\u001b[0m         \u001b[38;5;28;01mraise\u001b[39;00m \u001b[38;5;167;01mImportError\u001b[39;00m(\n\u001b[0;32m     43\u001b[0m             \u001b[38;5;124mf\u001b[39m\u001b[38;5;124m\"\u001b[39m\u001b[38;5;124mthe \u001b[39m\u001b[38;5;132;01m{\u001b[39;00mfunc\u001b[38;5;132;01m}\u001b[39;00m\u001b[38;5;124m requires the \u001b[39m\u001b[38;5;124m'\u001b[39m\u001b[38;5;124mfiona\u001b[39m\u001b[38;5;124m'\u001b[39m\u001b[38;5;124m package, but it is not installed or does \u001b[39m\u001b[38;5;124m\"\u001b[39m\n\u001b[0;32m     44\u001b[0m             \u001b[38;5;124mf\u001b[39m\u001b[38;5;124m\"\u001b[39m\u001b[38;5;124mnot import correctly.\u001b[39m\u001b[38;5;130;01m\\n\u001b[39;00m\u001b[38;5;124mImporting fiona resulted in: \u001b[39m\u001b[38;5;132;01m{\u001b[39;00mfiona_import_error\u001b[38;5;132;01m}\u001b[39;00m\u001b[38;5;124m\"\u001b[39m\n\u001b[0;32m     45\u001b[0m         )\n",
      "\u001b[1;31mImportError\u001b[0m: the 'read_file' function requires the 'fiona' package, but it is not installed or does not import correctly.\nImporting fiona resulted in: DLL load failed while importing ogrext: Не найден указанный модуль."
     ]
    }
   ],
   "source": [
    "import geopandas as gpd\n",
    "%matplotlib inline\n",
    "mo_gdf = gpd.read_file('schools_rating/atd/mo.shp')\n",
    "mo_gdf"
   ]
  },
  {
   "cell_type": "code",
   "execution_count": 208,
   "id": "4f3e3dfa",
   "metadata": {},
   "outputs": [
    {
     "data": {
      "text/plain": [
       "<AxesSubplot:>"
      ]
     },
     "execution_count": 208,
     "metadata": {},
     "output_type": "execute_result"
    },
    {
     "data": {
      "image/png": "[encoded data removed]",
      "text/plain": [
       "<Figure size 432x288 with 1 Axes>"
      ]
     },
     "metadata": {
      "needs_background": "light"
     },
     "output_type": "display_data"
    }
   ],
   "source": [
    "mo_gdf.plot()"
   ]
  },
  {
   "cell_type": "code",
   "execution_count": null,
   "id": "679b99ef",
   "metadata": {},
   "outputs": [],
   "source": [
    "mo_gdf_wm = mo_gdf.to_crs({'init' :'epsg:3857'}) #непосредственно преобразование проекции\n",
    "mo_gdf_wm.plot(column = 'ABBREV_AO', linewidth=0.5, cmap='plasma', legend=True, figsize=[15,15])"
   ]
  },
  {
   "cell_type": "code",
   "execution_count": null,
   "id": "a6f8005c",
   "metadata": {},
   "outputs": [],
   "source": [
    "districts['district'] = districts['district'].str.lower()\n",
    "districts['district'] = districts['district'].str.replace('ё', 'е')\n",
    "mo_gdf_wm['name_low'] = mo_gdf_wm['NAME'].str.lower()\n",
    "mo_gdf_wm['name_low'] = mo_gdf_wm['name_low'].str.replace('ё', 'е')\n",
    "full_gdf = districts.merge(mo_gdf_wm[['geometry', 'name_low']], left_on='district', right_on='name_low', how='left')\n",
    "full_gdf = gpd.GeoDataFrame(full_gdf)"
   ]
  },
  {
   "cell_type": "code",
   "execution_count": null,
   "id": "75e719b6",
   "metadata": {},
   "outputs": [],
   "source": [
    "full_gdf[full_gdf['name_low'].isnull()] "
   ]
  },
  {
   "cell_type": "code",
   "execution_count": null,
   "id": "9d69ceb5",
   "metadata": {},
   "outputs": [],
   "source": [
    "rating_plot = full_gdf.plot(column = 'smart_rate_220', linewidth=0, cmap='BuPu', legend=True, figsize=[15,15])"
   ]
  },
  {
   "cell_type": "code",
   "execution_count": null,
   "id": "c14df96d",
   "metadata": {
    "scrolled": false
   },
   "outputs": [],
   "source": [
    "import folium\n",
    "import matplotlib\n",
    "import mapclassify\n",
    "full_gdf.explore()"
   ]
  },
  {
   "cell_type": "code",
   "execution_count": 529,
   "id": "eca29b24",
   "metadata": {},
   "outputs": [],
   "source": []
  }
 ],
 "metadata": {
  "kernelspec": {
   "display_name": "Python 3 (ipykernel)",
   "language": "python",
   "name": "python3"
  },
  "language_info": {
   "codemirror_mode": {
    "name": "ipython",
    "version": 3
   },
   "file_extension": ".py",
   "mimetype": "text/x-python",
   "name": "python",
   "nbconvert_exporter": "python",
   "pygments_lexer": "ipython3",
   "version": "3.9.12"
  }
 },
 "nbformat": 4,
 "nbformat_minor": 5
}
